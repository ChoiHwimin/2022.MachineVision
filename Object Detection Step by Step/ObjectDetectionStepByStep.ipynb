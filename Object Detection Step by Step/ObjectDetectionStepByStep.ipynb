{
  "nbformat": 4,
  "nbformat_minor": 0,
  "metadata": {
    "colab": {
      "provenance": []
    },
    "kernelspec": {
      "name": "python3",
      "display_name": "Python 3"
    },
    "language_info": {
      "name": "python"
    },
    "accelerator": "GPU",
    "gpuClass": "standard"
  },
  "cells": [
    {
      "cell_type": "code",
      "execution_count": null,
      "metadata": {
        "id": "aJyGIPNQ6ZqT"
      },
      "outputs": [],
      "source": [
        "import numpy as np\n",
        "import tensorflow as tf\n",
        "import cv2 as cv\n",
        "import random\n",
        "from google.colab.patches import cv_imshow\n",
        "import matplotlib.pyplot as plt"
      ]
    },
    {
      "cell_type": "code",
      "source": [
        "# Generate training images and labels\n",
        "N=2000\n",
        "H,W=256,256\n",
        "train_img=np.zeros([N,H,W,3],dtype=np.uint8)\n",
        "train_img.fill(255)\n",
        "train_label_coord=np.zeros([N,2],dtype=np.int32)\n",
        "train_label_size=np.zeros([N,2],dtype=np.int32)\n",
        "train_label_color=np.zeros([N,1],dtype=np.int32)"
      ],
      "metadata": {
        "id": "TXzsVmPC6cQQ"
      },
      "execution_count": null,
      "outputs": []
    },
    {
      "cell_type": "code",
      "source": [
        "for n in range(N):\n",
        "  x,y=random.randint(0,W-1),random.randint(0,H-1)\n",
        "  bw,bh=random.randint(int(W/16),int(W/4)),random.randint(int(H/16),int(H/4))\n",
        "  if(x-bw/2<0): x=x-(x-bw/2)\n",
        "  elif(x+bw/2>W-1): x=x-(x+bw/2-(W-1))\n",
        "  if(y-bh/2<0): y=y-(y-bh/2)\n",
        "  elif(y+bh/2>H-1): y=y-(y+bh/2-(H-1))\n",
        "  x=int(x); y=int(y)\n",
        "  train_label_coord[n,0]=x; train_label_coord[n,1]=y\n",
        "  train_label_size[n,0]=bw; train_label_size[n,1]=bh\n",
        "  train_label_color[n]=random.randint(0,3) # 0: red, 1: green, 2: blue, 3: yellow\n",
        "  if train_label_color[n]==0: # red\n",
        "    cv.rectangle(train_img[n],(x-int(bw/2),y-int(bh/2)),(x+int(bw/2),y+int(bh/2)), color=(0,0,255),thickness=-1)\n",
        "  elif train_label_color[n]==1: # green\n",
        "    cv.rectangle(train_img[n],(x-int(bw/2),y-int(bh/2)),(x+int(bw/2),y+int(bh/2)), color=(0,255,0),thickness=-1)\n",
        "  elif train_label_color[n]==2: # blue\n",
        "    cv.rectangle(train_img[n],(x-int(bw/2),y-int(bh/2)),(x+int(bw/2),y+int(bh/2)), color=(255,0,0),thickness=-1)  \n",
        "  else: # yellow\n",
        "    cv.rectangle(train_img[n],(x-int(bw/2),y-int(bh/2)),(x+int(bw/2),y+int(bh/2)), color=(0,255,255),thickness=-1)\n"
      ],
      "metadata": {
        "id": "uoG8mGJ_6cOc"
      },
      "execution_count": null,
      "outputs": []
    },
    {
      "cell_type": "code",
      "source": [
        "# Display some images\n",
        "for n in range(5):\n",
        "  cv_imshow(train_img[n])"
      ],
      "metadata": {
        "colab": {
          "base_uri": "https://localhost:8080/",
          "height": 1000
        },
        "id": "im6FWmRb6cMR",
        "outputId": "550f2075-c10d-4341-b488-6bb33dc99a87"
      },
      "execution_count": null,
      "outputs": [
        {
          "output_type": "display_data",
          "data": {
            "text/plain": [
              "<PIL.Image.Image image mode=RGB size=256x256 at 0x7FDAFB3B5050>"
            ],
            "image/png": "[encoded data removed]"
          },
          "metadata": {}
        },
        {
          "output_type": "display_data",
          "data": {
            "text/plain": [
              "<PIL.Image.Image image mode=RGB size=256x256 at 0x7FDAFB3866D0>"
            ],
            "image/png": "[encoded data removed]"
          },
          "metadata": {}
        },
        {
          "output_type": "display_data",
          "data": {
            "text/plain": [
              "<PIL.Image.Image image mode=RGB size=256x256 at 0x7FDAFB3B51D0>"
            ],
            "image/png": "[encoded data removed]"
          },
          "metadata": {}
        },
        {
          "output_type": "display_data",
          "data": {
            "text/plain": [
              "<PIL.Image.Image image mode=RGB size=256x256 at 0x7FDB85570F90>"
            ],
            "image/png": "[encoded data removed]"
          },
          "metadata": {}
        },
        {
          "output_type": "display_data",
          "data": {
            "text/plain": [
              "<PIL.Image.Image image mode=RGB size=256x256 at 0x7FDAFB3B5050>"
            ],
            "image/png": "[encoded data removed]"
          },
          "metadata": {}
        }
      ]
    },
    {
      "cell_type": "code",
      "source": [
        "# Preprocess data\n",
        "train_img = tf.keras.applications.vgg16.preprocess_input(train_img)\n",
        "train_label_coord=train_label_coord.astype(np.float32)\n",
        "train_label_coord[:,0]=train_label_coord[:,0]/W\n",
        "train_label_coord[:,1]=train_label_coord[:,1]/H\n",
        "train_label_size=train_label_size.astype(np.float32)\n",
        "train_label_size[:,0]=train_label_size[:,0]/(W/4)\n",
        "train_label_size[:,1]=train_label_size[:,1]/(H/4)\n",
        "# Build model\n",
        "base_model = tf.keras.applications.VGG16(input_shape=[H,W,3], include_top=False, weights='imagenet')\n",
        "x = base_model.output\n",
        "x = tf.keras.layers.Flatten()(x)\n",
        "out_coord=tf.keras.layers.Dense(2,activation='sigmoid',name='out_coord')(x)\n",
        "out_size=tf.keras.layers.Dense(2, activation='sigmoid',name='out_size')(x)\n",
        "out_class=tf.keras.layers.Dense(4,activation='softmax',name='out_class')(x)\n",
        "model=tf.keras.Model(inputs=base_model.input,outputs=[out_coord,out_size,out_class])"
      ],
      "metadata": {
        "id": "or6D27Ry6cKF"
      },
      "execution_count": null,
      "outputs": []
    },
    {
      "cell_type": "code",
      "source": [
        "model.summary()"
      ],
      "metadata": {
        "colab": {
          "base_uri": "https://localhost:8080/"
        },
        "id": "fBEbi2X3__Dg",
        "outputId": "5b2b127e-5a1a-4cae-c344-ed04e728aa63"
      },
      "execution_count": null,
      "outputs": [
        {
          "output_type": "stream",
          "name": "stdout",
          "text": [
            "Model: \"model\"\n",
            "__________________________________________________________________________________________________\n",
            " Layer (type)                   Output Shape         Param #     Connected to                     \n",
            "==================================================================================================\n",
            " input_1 (InputLayer)           [(None, 256, 256, 3  0           []                               \n",
            "                                )]                                                                \n",
            "                                                                                                  \n",
            " block1_conv1 (Conv2D)          (None, 256, 256, 64  1792        ['input_1[0][0]']                \n",
            "                                )                                                                 \n",
            "                                                                                                  \n",
            " block1_conv2 (Conv2D)          (None, 256, 256, 64  36928       ['block1_conv1[0][0]']           \n",
            "                                )                                                                 \n",
            "                                                                                                  \n",
            " block1_pool (MaxPooling2D)     (None, 128, 128, 64  0           ['block1_conv2[0][0]']           \n",
            "                                )                                                                 \n",
            "                                                                                                  \n",
            " block2_conv1 (Conv2D)          (None, 128, 128, 12  73856       ['block1_pool[0][0]']            \n",
            "                                8)                                                                \n",
            "                                                                                                  \n",
            " block2_conv2 (Conv2D)          (None, 128, 128, 12  147584      ['block2_conv1[0][0]']           \n",
            "                                8)                                                                \n",
            "                                                                                                  \n",
            " block2_pool (MaxPooling2D)     (None, 64, 64, 128)  0           ['block2_conv2[0][0]']           \n",
            "                                                                                                  \n",
            " block3_conv1 (Conv2D)          (None, 64, 64, 256)  295168      ['block2_pool[0][0]']            \n",
            "                                                                                                  \n",
            " block3_conv2 (Conv2D)          (None, 64, 64, 256)  590080      ['block3_conv1[0][0]']           \n",
            "                                                                                                  \n",
            " block3_conv3 (Conv2D)          (None, 64, 64, 256)  590080      ['block3_conv2[0][0]']           \n",
            "                                                                                                  \n",
            " block3_pool (MaxPooling2D)     (None, 32, 32, 256)  0           ['block3_conv3[0][0]']           \n",
            "                                                                                                  \n",
            " block4_conv1 (Conv2D)          (None, 32, 32, 512)  1180160     ['block3_pool[0][0]']            \n",
            "                                                                                                  \n",
            " block4_conv2 (Conv2D)          (None, 32, 32, 512)  2359808     ['block4_conv1[0][0]']           \n",
            "                                                                                                  \n",
            " block4_conv3 (Conv2D)          (None, 32, 32, 512)  2359808     ['block4_conv2[0][0]']           \n",
            "                                                                                                  \n",
            " block4_pool (MaxPooling2D)     (None, 16, 16, 512)  0           ['block4_conv3[0][0]']           \n",
            "                                                                                                  \n",
            " block5_conv1 (Conv2D)          (None, 16, 16, 512)  2359808     ['block4_pool[0][0]']            \n",
            "                                                                                                  \n",
            " block5_conv2 (Conv2D)          (None, 16, 16, 512)  2359808     ['block5_conv1[0][0]']           \n",
            "                                                                                                  \n",
            " block5_conv3 (Conv2D)          (None, 16, 16, 512)  2359808     ['block5_conv2[0][0]']           \n",
            "                                                                                                  \n",
            " block5_pool (MaxPooling2D)     (None, 8, 8, 512)    0           ['block5_conv3[0][0]']           \n",
            "                                                                                                  \n",
            " flatten (Flatten)              (None, 32768)        0           ['block5_pool[0][0]']            \n",
            "                                                                                                  \n",
            " out_coord (Dense)              (None, 2)            65538       ['flatten[0][0]']                \n",
            "                                                                                                  \n",
            " out_size (Dense)               (None, 2)            65538       ['flatten[0][0]']                \n",
            "                                                                                                  \n",
            " out_class (Dense)              (None, 4)            131076      ['flatten[0][0]']                \n",
            "                                                                                                  \n",
            "==================================================================================================\n",
            "Total params: 14,976,840\n",
            "Trainable params: 14,976,840\n",
            "Non-trainable params: 0\n",
            "__________________________________________________________________________________________________\n"
          ]
        }
      ]
    },
    {
      "cell_type": "code",
      "source": [
        "# Custom loss functions\n",
        "def coord_loss_func(y_true,y_pred):\n",
        "  loss_coord=tf.keras.losses.mean_squared_error(y_true,y_pred)\n",
        "  return loss_coord\n",
        "\n",
        "def size_loss_func(y_true,y_pred):\n",
        "  loss_size=tf.keras.losses.mean_squared_error(y_true,y_pred)\n",
        "  return loss_size\n",
        "\n",
        "def class_loss_func(y_true,y_pred):\n",
        "  loss_class=tf.keras.losses.sparse_categorical_crossentropy(y_true,y_pred)\n",
        "  return loss_class"
      ],
      "metadata": {
        "id": "RMPl_c7IABob"
      },
      "execution_count": null,
      "outputs": []
    },
    {
      "cell_type": "code",
      "source": [
        "model.compile(optimizer=tf.keras.optimizers.Adam(learning_rate=0.0001),\n",
        "              loss={'out_coord':coord_loss_func,'out_size':size_loss_func,'out_class':class_loss_func},\n",
        "              loss_weights={'out_coord':4,'out_size':1,'out_class':1})"
      ],
      "metadata": {
        "id": "e1REGEDX_LK-"
      },
      "execution_count": null,
      "outputs": []
    },
    {
      "cell_type": "code",
      "source": [
        "history = model.fit(x=train_img,\n",
        "                    y={'out_coord':train_label_coord,'out_size':train_label_size,'out_class':train_label_color},\n",
        "                    epochs=25,batch_size=50,validation_split=0.25)\n",
        "model.save('model')"
      ],
      "metadata": {
        "colab": {
          "base_uri": "https://localhost:8080/"
        },
        "id": "Ek8odp3F6cFh",
        "outputId": "7e79f28a-33d4-427b-db0e-37f2b5ed2fb1"
      },
      "execution_count": null,
      "outputs": [
        {
          "output_type": "stream",
          "name": "stdout",
          "text": [
            "Epoch 1/25\n",
            "30/30 [==============================] - 48s 1s/step - loss: 1.5830 - out_coord_loss: 0.0618 - out_size_loss: 0.0825 - out_class_loss: 1.2533 - val_loss: 0.4436 - val_out_coord_loss: 0.0287 - val_out_size_loss: 0.0893 - val_out_class_loss: 0.2393\n",
            "Epoch 2/25\n",
            "30/30 [==============================] - 31s 1s/step - loss: 0.2556 - out_coord_loss: 0.0295 - out_size_loss: 0.0843 - out_class_loss: 0.0533 - val_loss: 0.1575 - val_out_coord_loss: 0.0140 - val_out_size_loss: 0.0663 - val_out_class_loss: 0.0352\n",
            "Epoch 3/25\n",
            "30/30 [==============================] - 30s 997ms/step - loss: 0.1088 - out_coord_loss: 0.0116 - out_size_loss: 0.0472 - out_class_loss: 0.0151 - val_loss: 0.0889 - val_out_coord_loss: 0.0089 - val_out_size_loss: 0.0450 - val_out_class_loss: 0.0083\n",
            "Epoch 4/25\n",
            "30/30 [==============================] - 32s 1s/step - loss: 0.0634 - out_coord_loss: 0.0057 - out_size_loss: 0.0353 - out_class_loss: 0.0054 - val_loss: 0.0565 - val_out_coord_loss: 0.0048 - val_out_size_loss: 0.0337 - val_out_class_loss: 0.0035\n",
            "Epoch 5/25\n",
            "30/30 [==============================] - 32s 1s/step - loss: 0.0413 - out_coord_loss: 0.0037 - out_size_loss: 0.0241 - out_class_loss: 0.0025 - val_loss: 0.0428 - val_out_coord_loss: 0.0040 - val_out_size_loss: 0.0243 - val_out_class_loss: 0.0024\n",
            "Epoch 6/25\n",
            "30/30 [==============================] - 30s 996ms/step - loss: 0.0284 - out_coord_loss: 0.0025 - out_size_loss: 0.0167 - out_class_loss: 0.0016 - val_loss: 0.0298 - val_out_coord_loss: 0.0025 - val_out_size_loss: 0.0181 - val_out_class_loss: 0.0017\n",
            "Epoch 7/25\n",
            "30/30 [==============================] - 30s 996ms/step - loss: 0.0202 - out_coord_loss: 0.0017 - out_size_loss: 0.0122 - out_class_loss: 0.0011 - val_loss: 0.0253 - val_out_coord_loss: 0.0025 - val_out_size_loss: 0.0136 - val_out_class_loss: 0.0015\n",
            "Epoch 8/25\n",
            "30/30 [==============================] - 32s 1s/step - loss: 0.0163 - out_coord_loss: 0.0017 - out_size_loss: 0.0087 - out_class_loss: 9.6520e-04 - val_loss: 0.0233 - val_out_coord_loss: 0.0022 - val_out_size_loss: 0.0125 - val_out_class_loss: 0.0020\n",
            "Epoch 9/25\n",
            "30/30 [==============================] - 30s 995ms/step - loss: 0.0135 - out_coord_loss: 0.0015 - out_size_loss: 0.0067 - out_class_loss: 9.2674e-04 - val_loss: 0.0187 - val_out_coord_loss: 0.0022 - val_out_size_loss: 0.0088 - val_out_class_loss: 0.0010\n",
            "Epoch 10/25\n",
            "30/30 [==============================] - 30s 998ms/step - loss: 0.0106 - out_coord_loss: 0.0013 - out_size_loss: 0.0047 - out_class_loss: 7.6776e-04 - val_loss: 0.0162 - val_out_coord_loss: 0.0021 - val_out_size_loss: 0.0071 - val_out_class_loss: 8.6405e-04\n",
            "Epoch 11/25\n",
            "30/30 [==============================] - 30s 996ms/step - loss: 0.0080 - out_coord_loss: 9.7667e-04 - out_size_loss: 0.0035 - out_class_loss: 5.7906e-04 - val_loss: 0.0139 - val_out_coord_loss: 0.0016 - val_out_size_loss: 0.0062 - val_out_class_loss: 0.0011\n",
            "Epoch 12/25\n",
            "30/30 [==============================] - 32s 1s/step - loss: 0.0065 - out_coord_loss: 8.2877e-04 - out_size_loss: 0.0027 - out_class_loss: 4.7524e-04 - val_loss: 0.0126 - val_out_coord_loss: 0.0016 - val_out_size_loss: 0.0055 - val_out_class_loss: 6.7385e-04\n",
            "Epoch 13/25\n",
            "30/30 [==============================] - 32s 1s/step - loss: 0.0054 - out_coord_loss: 6.9234e-04 - out_size_loss: 0.0022 - out_class_loss: 4.1138e-04 - val_loss: 0.0118 - val_out_coord_loss: 0.0015 - val_out_size_loss: 0.0052 - val_out_class_loss: 6.1755e-04\n",
            "Epoch 14/25\n",
            "30/30 [==============================] - 30s 998ms/step - loss: 0.0049 - out_coord_loss: 6.2964e-04 - out_size_loss: 0.0020 - out_class_loss: 3.4869e-04 - val_loss: 0.0107 - val_out_coord_loss: 0.0014 - val_out_size_loss: 0.0048 - val_out_class_loss: 4.8110e-04\n",
            "Epoch 15/25\n",
            "30/30 [==============================] - 32s 1s/step - loss: 0.0042 - out_coord_loss: 5.2553e-04 - out_size_loss: 0.0018 - out_class_loss: 3.2203e-04 - val_loss: 0.0107 - val_out_coord_loss: 0.0014 - val_out_size_loss: 0.0045 - val_out_class_loss: 5.4282e-04\n",
            "Epoch 16/25\n",
            "30/30 [==============================] - 32s 1s/step - loss: 0.0036 - out_coord_loss: 4.4225e-04 - out_size_loss: 0.0016 - out_class_loss: 2.6791e-04 - val_loss: 0.0098 - val_out_coord_loss: 0.0013 - val_out_size_loss: 0.0040 - val_out_class_loss: 6.7602e-04\n",
            "Epoch 17/25\n",
            "30/30 [==============================] - 30s 1s/step - loss: 0.0034 - out_coord_loss: 4.5590e-04 - out_size_loss: 0.0013 - out_class_loss: 2.4259e-04 - val_loss: 0.0098 - val_out_coord_loss: 0.0013 - val_out_size_loss: 0.0044 - val_out_class_loss: 3.4114e-04\n",
            "Epoch 18/25\n",
            "30/30 [==============================] - 32s 1s/step - loss: 0.0033 - out_coord_loss: 4.5902e-04 - out_size_loss: 0.0013 - out_class_loss: 2.3961e-04 - val_loss: 0.0094 - val_out_coord_loss: 0.0012 - val_out_size_loss: 0.0042 - val_out_class_loss: 2.9189e-04\n",
            "Epoch 19/25\n",
            "30/30 [==============================] - 30s 993ms/step - loss: 0.0031 - out_coord_loss: 4.3965e-04 - out_size_loss: 0.0011 - out_class_loss: 2.1498e-04 - val_loss: 0.0088 - val_out_coord_loss: 0.0011 - val_out_size_loss: 0.0039 - val_out_class_loss: 3.4515e-04\n",
            "Epoch 20/25\n",
            "30/30 [==============================] - 30s 999ms/step - loss: 0.0029 - out_coord_loss: 3.7957e-04 - out_size_loss: 0.0012 - out_class_loss: 2.0335e-04 - val_loss: 0.0090 - val_out_coord_loss: 0.0012 - val_out_size_loss: 0.0039 - val_out_class_loss: 2.9220e-04\n",
            "Epoch 21/25\n",
            "30/30 [==============================] - 32s 1s/step - loss: 0.0027 - out_coord_loss: 3.7380e-04 - out_size_loss: 9.7852e-04 - out_class_loss: 1.7769e-04 - val_loss: 0.0075 - val_out_coord_loss: 9.2234e-04 - val_out_size_loss: 0.0035 - val_out_class_loss: 3.1772e-04\n",
            "Epoch 22/25\n",
            "30/30 [==============================] - 30s 995ms/step - loss: 0.0024 - out_coord_loss: 3.3616e-04 - out_size_loss: 9.0635e-04 - out_class_loss: 1.6974e-04 - val_loss: 0.0082 - val_out_coord_loss: 0.0010 - val_out_size_loss: 0.0038 - val_out_class_loss: 3.3271e-04\n",
            "Epoch 23/25\n",
            "30/30 [==============================] - 32s 1s/step - loss: 0.0024 - out_coord_loss: 3.3650e-04 - out_size_loss: 8.8466e-04 - out_class_loss: 1.5133e-04 - val_loss: 0.0083 - val_out_coord_loss: 0.0011 - val_out_size_loss: 0.0035 - val_out_class_loss: 4.1246e-04\n",
            "Epoch 24/25\n",
            "30/30 [==============================] - 30s 997ms/step - loss: 0.0023 - out_coord_loss: 3.0415e-04 - out_size_loss: 9.0967e-04 - out_class_loss: 1.5744e-04 - val_loss: 0.0077 - val_out_coord_loss: 9.9127e-04 - val_out_size_loss: 0.0035 - val_out_class_loss: 2.3014e-04\n",
            "Epoch 25/25\n",
            "30/30 [==============================] - 30s 997ms/step - loss: 0.0018 - out_coord_loss: 2.2447e-04 - out_size_loss: 7.5470e-04 - out_class_loss: 1.3694e-04 - val_loss: 0.0072 - val_out_coord_loss: 9.4357e-04 - val_out_size_loss: 0.0031 - val_out_class_loss: 2.5999e-04\n",
            "INFO:tensorflow:Assets written to: model/assets\n"
          ]
        }
      ]
    },
    {
      "cell_type": "code",
      "source": [
        "# Show training history\n",
        "plt.figure()\n",
        "plt.plot(history.history['loss'], 'b-', label='training')\n",
        "plt.plot(history.history['val_loss'], 'r--', label='validation')\n",
        "plt.xlabel('Epoch'), plt.ylabel('Loss'), plt.legend()\n",
        "plt.show()"
      ],
      "metadata": {
        "colab": {
          "base_uri": "https://localhost:8080/",
          "height": 279
        },
        "id": "xw23TJyh6cDn",
        "outputId": "ade0ba1d-3ee1-4f53-de87-2c80cbbee740"
      },
      "execution_count": null,
      "outputs": [
        {
          "output_type": "display_data",
          "data": {
            "text/plain": [
              "<Figure size 432x288 with 1 Axes>"
            ],
            "image/png": "[encoded data removed]"
          },
          "metadata": {
            "needs_background": "light"
          }
        }
      ]
    },
    {
      "cell_type": "code",
      "source": [
        "# Generate test images and labels\n",
        "N=20\n",
        "H,W=256,256\n",
        "test_img=np.zeros([N,H,W,3],dtype=np.uint8)\n",
        "test_img.fill(255)\n",
        "test_label_coord=np.zeros([N,2],dtype=np.int32)\n",
        "test_label_size=np.zeros([N,2],dtype=np.int32)\n",
        "test_label_color=np.zeros([N,1],dtype=np.int32)\n",
        "\n",
        "for n in range(N):\n",
        "  x,y=random.randint(0,W-1),random.randint(0,H-1)\n",
        "  bw,bh=random.randint(int(W/16),int(W/4)),random.randint(int(H/16),int(H/4))\n",
        "  if(x-bw/2<0): x=x-(x-bw/2)\n",
        "  elif(x+bw/2>W-1): x=x-(x+bw/2-(W-1))\n",
        "  if(y-bh/2<0): y=y-(y-bh/2)\n",
        "  elif(y+bh/2>H-1): y=y-(y+bh/2-(H-1))\n",
        "\n",
        "  x=int(x); y=int(y)\n",
        "  test_label_coord[n,0]=x; test_label_coord[n,1]=y\n",
        "  test_label_size[n,0]=bw; test_label_size[n,1]=bh\n",
        "  test_label_color[n]=random.randint(0,3) # 0: red, 1: green, 2: blue, 3: yellow\n",
        "  \n",
        "  if test_label_color[n]==0: # red\n",
        "    cv.rectangle(test_img[n],(x-int(bw/2),y-int(bh/2)),(x+int(bw/2),y+int(bh/2)), color=(0,0,255),thickness=-1)\n",
        "  elif test_label_color[n]==1: # green\n",
        "    cv.rectangle(test_img[n],(x-int(bw/2),y-int(bh/2)),(x+int(bw/2),y+int(bh/2)), color=(0,255,0),thickness=-1)\n",
        "  elif test_label_color[n]==2: # blue\n",
        "    cv.rectangle(test_img[n],(x-int(bw/2),y-int(bh/2)),(x+int(bw/2),y+int(bh/2)), color=(255,0,0),thickness=-1)  \n",
        "  else: # yellow\n",
        "    cv.rectangle(test_img[n],(x-int(bw/2),y-int(bh/2)),(x+int(bw/2),y+int(bh/2)), color=(0,255,255),thickness=-1)"
      ],
      "metadata": {
        "id": "HbGoqhL56cBa"
      },
      "execution_count": null,
      "outputs": []
    },
    {
      "cell_type": "code",
      "source": [
        "for n in range(N):\n",
        "  cv_imshow(test_img[n])"
      ],
      "metadata": {
        "colab": {
          "base_uri": "https://localhost:8080/",
          "height": 1000
        },
        "id": "hvsuj0OyX1_G",
        "outputId": "9d2847b5-cfc1-4f94-ee59-d6422f2fbd4d"
      },
      "execution_count": null,
      "outputs": [
        {
          "output_type": "display_data",
          "data": {
            "text/plain": [
              "<PIL.Image.Image image mode=RGB size=256x256 at 0x7FDA7E30FF50>"
            ],
            "image/png": "[encoded data removed]"
          },
          "metadata": {}
        },
        {
          "output_type": "display_data",
          "data": {
            "text/plain": [
              "<PIL.Image.Image image mode=RGB size=256x256 at 0x7FDA7E1F65D0>"
            ],
            "image/png": "[encoded data removed]"
          },
          "metadata": {}
        },
        {
          "output_type": "display_data",
          "data": {
            "text/plain": [
              "<PIL.Image.Image image mode=RGB size=256x256 at 0x7FDA7E30FFD0>"
            ],
            "image/png": "[encoded data removed]"
          },
          "metadata": {}
        },
        {
          "output_type": "display_data",
          "data": {
            "text/plain": [
              "<PIL.Image.Image image mode=RGB size=256x256 at 0x7FDA7E31E910>"
            ],
            "image/png": "[encoded data removed]"
          },
          "metadata": {}
        },
        {
          "output_type": "display_data",
          "data": {
            "text/plain": [
              "<PIL.Image.Image image mode=RGB size=256x256 at 0x7FDA7E059ED0>"
            ],
            "image/png": "[encoded data removed]"
          },
          "metadata": {}
        },
        {
          "output_type": "display_data",
          "data": {
            "text/plain": [
              "<PIL.Image.Image image mode=RGB size=256x256 at 0x7FDA7E1F6DD0>"
            ],
            "image/png": "[encoded data removed]"
          },
          "metadata": {}
        },
        {
          "output_type": "display_data",
          "data": {
            "text/plain": [
              "<PIL.Image.Image image mode=RGB size=256x256 at 0x7FDA7E059ED0>"
            ],
            "image/png": "[encoded data removed]"
          },
          "metadata": {}
        },
        {
          "output_type": "display_data",
          "data": {
            "text/plain": [
              "<PIL.Image.Image image mode=RGB size=256x256 at 0x7FDA7E059F10>"
            ],
            "image/png": "[encoded data removed]"
          },
          "metadata": {}
        },
        {
          "output_type": "display_data",
          "data": {
            "text/plain": [
              "<PIL.Image.Image image mode=RGB size=256x256 at 0x7FDA7E30FF50>"
            ],
            "image/png": "[encoded data removed]"
          },
          "metadata": {}
        },
        {
          "output_type": "display_data",
          "data": {
            "text/plain": [
              "<PIL.Image.Image image mode=RGB size=256x256 at 0x7FDA7E30FFD0>"
            ],
            "image/png": "[encoded data removed]"
          },
          "metadata": {}
        },
        {
          "output_type": "display_data",
          "data": {
            "text/plain": [
              "<PIL.Image.Image image mode=RGB size=256x256 at 0x7FDA7E1F6690>"
            ],
            "image/png": "[encoded data removed]"
          },
          "metadata": {}
        },
        {
          "output_type": "display_data",
          "data": {
            "text/plain": [
              "<PIL.Image.Image image mode=RGB size=256x256 at 0x7FDA7E059ED0>"
            ],
            "image/png": "[encoded data removed]"
          },
          "metadata": {}
        },
        {
          "output_type": "display_data",
          "data": {
            "text/plain": [
              "<PIL.Image.Image image mode=RGB size=256x256 at 0x7FDA7E30F750>"
            ],
            "image/png": "[encoded data removed]"
          },
          "metadata": {}
        },
        {
          "output_type": "display_data",
          "data": {
            "text/plain": [
              "<PIL.Image.Image image mode=RGB size=256x256 at 0x7FDA7E059ED0>"
            ],
            "image/png": "[encoded data removed]"
          },
          "metadata": {}
        },
        {
          "output_type": "display_data",
          "data": {
            "text/plain": [
              "<PIL.Image.Image image mode=RGB size=256x256 at 0x7FDA7E059ED0>"
            ],
            "image/png": "[encoded data removed]"
          },
          "metadata": {}
        },
        {
          "output_type": "display_data",
          "data": {
            "text/plain": [
              "<PIL.Image.Image image mode=RGB size=256x256 at 0x7FDA7E3876D0>"
            ],
            "image/png": "[encoded data removed]"
          },
          "metadata": {}
        },
        {
          "output_type": "display_data",
          "data": {
            "text/plain": [
              "<PIL.Image.Image image mode=RGB size=256x256 at 0x7FDA7E2CE1D0>"
            ],
            "image/png": "[encoded data removed]"
          },
          "metadata": {}
        },
        {
          "output_type": "display_data",
          "data": {
            "text/plain": [
              "<PIL.Image.Image image mode=RGB size=256x256 at 0x7FDA7E30FF50>"
            ],
            "image/png": "[encoded data removed]"
          },
          "metadata": {}
        },
        {
          "output_type": "display_data",
          "data": {
            "text/plain": [
              "<PIL.Image.Image image mode=RGB size=256x256 at 0x7FDA7E30F110>"
            ],
            "image/png": "[encoded data removed]"
          },
          "metadata": {}
        },
        {
          "output_type": "display_data",
          "data": {
            "text/plain": [
              "<PIL.Image.Image image mode=RGB size=256x256 at 0x7FDA7E1F6690>"
            ],
            "image/png": "[encoded data removed]"
          },
          "metadata": {}
        }
      ]
    },
    {
      "cell_type": "code",
      "source": [
        "# Preprocess test images\n",
        "test_img_ = tf.keras.applications.vgg16.preprocess_input(test_img)\n",
        "# Predict object locations in test images\n",
        "model=tf.keras.models.load_model('model',\n",
        "                                 custom_objects={'coord_loss_func':coord_loss_func,\n",
        "                                                 'size_loss_func':size_loss_func,\n",
        "                                                 'class_loss_func':class_loss_func})\n",
        "pred_coord,pred_size,pred_class=model.predict(test_img_)\n",
        "pred_coord[:,0]=pred_coord[:,0]*H\n",
        "pred_coord[:,1]=pred_coord[:,1]*W\n",
        "pred_size[:,0]=pred_size[:,0]*(H/4)\n",
        "pred_size[:,1]=pred_size[:,1]*(W/4)\n",
        "pred_class=np.argmax(pred_class,axis=1)"
      ],
      "metadata": {
        "id": "pbjFFdyb6b-9"
      },
      "execution_count": null,
      "outputs": []
    },
    {
      "cell_type": "code",
      "source": [
        "# Display prediction results\n",
        "for n in range(N):\n",
        "  x=pred_coord[n,0].astype('int')\n",
        "  y=pred_coord[n,1].astype('int')\n",
        "  bw=pred_size[n,0].astype('int')\n",
        "  bh=pred_size[n,1].astype('int')\n",
        "  obj_class=pred_class[n]\n",
        "  cv.circle(test_img[n],center=(x,y),radius=2,color=(0,0,0),thickness=2)\n",
        "  cv.rectangle(test_img[n],(x-int(bw/2),y-int(bh/2)),(x+int(bw/2),y+int(bh/2)),color=(0,0,0),thickness=1)\n",
        "  if obj_class==0: # red\n",
        "    cv.rectangle(test_img[n],(0,0),(W-1,H-1),color=(0,0,255),thickness=1)\n",
        "  elif obj_class==1: # green\n",
        "    cv.rectangle(test_img[n],(0,0),(W-1,H-1),color=(0,255,0),thickness=1)\n",
        "  elif obj_class==2: # blue\n",
        "    cv.rectangle(test_img[n],(0,0),(W-1,H-1),color=(255,0,0),thickness=1)\n",
        "  else: # yellow\n",
        "    cv.rectangle(test_img[n],(0,0),(W-1,H-1),color=(0,255,255),thickness=1)\n",
        "  cv_imshow(test_img[n])"
      ],
      "metadata": {
        "colab": {
          "base_uri": "https://localhost:8080/",
          "height": 1000
        },
        "id": "TaXtlKWL6b8z",
        "outputId": "d83d4dff-c63a-4ed3-a316-c97e19d6e671"
      },
      "execution_count": null,
      "outputs": [
        {
          "output_type": "display_data",
          "data": {
            "text/plain": [
              "<PIL.Image.Image image mode=RGB size=256x256 at 0x7FDA68339390>"
            ],
            "image/png": "[encoded data removed]"
          },
          "metadata": {}
        },
        {
          "output_type": "display_data",
          "data": {
            "text/plain": [
              "<PIL.Image.Image image mode=RGB size=256x256 at 0x7FDA6834F1D0>"
            ],
            "image/png": "[encoded data removed]"
          },
          "metadata": {}
        },
        {
          "output_type": "display_data",
          "data": {
            "text/plain": [
              "<PIL.Image.Image image mode=RGB size=256x256 at 0x7FDA7E1D9990>"
            ],
            "image/png": "[encoded data removed]"
          },
          "metadata": {}
        },
        {
          "output_type": "display_data",
          "data": {
            "text/plain": [
              "<PIL.Image.Image image mode=RGB size=256x256 at 0x7FDA6834F1D0>"
            ],
            "image/png": "[encoded data removed]"
          },
          "metadata": {}
        },
        {
          "output_type": "display_data",
          "data": {
            "text/plain": [
              "<PIL.Image.Image image mode=RGB size=256x256 at 0x7FDA7E1D9490>"
            ],
            "image/png": "[encoded data removed]"
          },
          "metadata": {}
        },
        {
          "output_type": "display_data",
          "data": {
            "text/plain": [
              "<PIL.Image.Image image mode=RGB size=256x256 at 0x7FDA7E1D9490>"
            ],
            "image/png": "[encoded data removed]"
          },
          "metadata": {}
        },
        {
          "output_type": "display_data",
          "data": {
            "text/plain": [
              "<PIL.Image.Image image mode=RGB size=256x256 at 0x7FDA7E1D9110>"
            ],
            "image/png": "[encoded data removed]"
          },
          "metadata": {}
        },
        {
          "output_type": "display_data",
          "data": {
            "text/plain": [
              "<PIL.Image.Image image mode=RGB size=256x256 at 0x7FDA68339390>"
            ],
            "image/png": "[encoded data removed]"
          },
          "metadata": {}
        },
        {
          "output_type": "display_data",
          "data": {
            "text/plain": [
              "<PIL.Image.Image image mode=RGB size=256x256 at 0x7FDA7E1D9490>"
            ],
            "image/png": "[encoded data removed]"
          },
          "metadata": {}
        },
        {
          "output_type": "display_data",
          "data": {
            "text/plain": [
              "<PIL.Image.Image image mode=RGB size=256x256 at 0x7FDA7E1D9490>"
            ],
            "image/png": "[encoded data removed]"
          },
          "metadata": {}
        },
        {
          "output_type": "display_data",
          "data": {
            "text/plain": [
              "<PIL.Image.Image image mode=RGB size=256x256 at 0x7FDA7E1D9990>"
            ],
            "image/png": "[encoded data removed]"
          },
          "metadata": {}
        },
        {
          "output_type": "display_data",
          "data": {
            "text/plain": [
              "<PIL.Image.Image image mode=RGB size=256x256 at 0x7FDAF016DED0>"
            ],
            "image/png": "[encoded data removed]"
          },
          "metadata": {}
        },
        {
          "output_type": "display_data",
          "data": {
            "text/plain": [
              "<PIL.Image.Image image mode=RGB size=256x256 at 0x7FDA7E1D9350>"
            ],
            "image/png": "[encoded data removed]"
          },
          "metadata": {}
        },
        {
          "output_type": "display_data",
          "data": {
            "text/plain": [
              "<PIL.Image.Image image mode=RGB size=256x256 at 0x7FDA6834F1D0>"
            ],
            "image/png": "[encoded data removed]"
          },
          "metadata": {}
        },
        {
          "output_type": "display_data",
          "data": {
            "text/plain": [
              "<PIL.Image.Image image mode=RGB size=256x256 at 0x7FDA68383950>"
            ],
            "image/png": "[encoded data removed]"
          },
          "metadata": {}
        },
        {
          "output_type": "display_data",
          "data": {
            "text/plain": [
              "<PIL.Image.Image image mode=RGB size=256x256 at 0x7FDA7E1D9350>"
            ],
            "image/png": "[encoded data removed]"
          },
          "metadata": {}
        },
        {
          "output_type": "display_data",
          "data": {
            "text/plain": [
              "<PIL.Image.Image image mode=RGB size=256x256 at 0x7FDA7E1D9990>"
            ],
            "image/png": "[encoded data removed]"
          },
          "metadata": {}
        },
        {
          "output_type": "display_data",
          "data": {
            "text/plain": [
              "<PIL.Image.Image image mode=RGB size=256x256 at 0x7FDA7E1D9490>"
            ],
            "image/png": "[encoded data removed]"
          },
          "metadata": {}
        },
        {
          "output_type": "display_data",
          "data": {
            "text/plain": [
              "<PIL.Image.Image image mode=RGB size=256x256 at 0x7FDA7E1D9350>"
            ],
            "image/png": "[encoded data removed]"
          },
          "metadata": {}
        },
        {
          "output_type": "display_data",
          "data": {
            "text/plain": [
              "<PIL.Image.Image image mode=RGB size=256x256 at 0x7FDA6837FD50>"
            ],
            "image/png": "[encoded data removed]"
          },
          "metadata": {}
        }
      ]
    },
    {
      "cell_type": "code",
      "source": [],
      "metadata": {
        "id": "efwEoGcl6b6V"
      },
      "execution_count": null,
      "outputs": []
    },
    {
      "cell_type": "code",
      "source": [],
      "metadata": {
        "id": "pR3bj9PB6b4P"
      },
      "execution_count": null,
      "outputs": []
    },
    {
      "cell_type": "code",
      "source": [],
      "metadata": {
        "id": "I-uFvCzq6b1y"
      },
      "execution_count": null,
      "outputs": []
    },
    {
      "cell_type": "code",
      "source": [],
      "metadata": {
        "id": "_uLnPCpJ6bzN"
      },
      "execution_count": null,
      "outputs": []
    },
    {
      "cell_type": "code",
      "source": [],
      "metadata": {
        "id": "FEBjmUoB6bxB"
      },
      "execution_count": null,
      "outputs": []
    },
    {
      "cell_type": "code",
      "source": [],
      "metadata": {
        "id": "abncJEY76buz"
      },
      "execution_count": null,
      "outputs": []
    },
    {
      "cell_type": "code",
      "source": [],
      "metadata": {
        "id": "7l2-coD36bsw"
      },
      "execution_count": null,
      "outputs": []
    },
    {
      "cell_type": "code",
      "source": [],
      "metadata": {
        "id": "k0yAbEG76bqY"
      },
      "execution_count": null,
      "outputs": []
    },
    {
      "cell_type": "code",
      "source": [],
      "metadata": {
        "id": "qZHTbzLu6boK"
      },
      "execution_count": null,
      "outputs": []
    },
    {
      "cell_type": "code",
      "source": [],
      "metadata": {
        "id": "ySVoZDWF6bl8"
      },
      "execution_count": null,
      "outputs": []
    },
    {
      "cell_type": "code",
      "source": [],
      "metadata": {
        "id": "vRG5zyzI6bkQ"
      },
      "execution_count": null,
      "outputs": []
    },
    {
      "cell_type": "code",
      "source": [],
      "metadata": {
        "id": "LxO1i9Lx6bhd"
      },
      "execution_count": null,
      "outputs": []
    },
    {
      "cell_type": "code",
      "source": [],
      "metadata": {
        "id": "kSh1LzA06be6"
      },
      "execution_count": null,
      "outputs": []
    },
    {
      "cell_type": "code",
      "source": [],
      "metadata": {
        "id": "okopzokG6bbW"
      },
      "execution_count": null,
      "outputs": []
    },
    {
      "cell_type": "code",
      "source": [],
      "metadata": {
        "id": "vGpkQrHF6bYz"
      },
      "execution_count": null,
      "outputs": []
    }
  ]
}